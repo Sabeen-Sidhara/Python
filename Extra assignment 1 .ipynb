{
 "cells": [
  {
   "cell_type": "code",
   "execution_count": 1,
   "id": "21938396-312c-4dfa-9b68-ae242337e32c",
   "metadata": {},
   "outputs": [
    {
     "name": "stdout",
     "output_type": "stream",
     "text": [
      "HOPE AI\n"
     ]
    }
   ],
   "source": [
    "print(\"HOPE AI\")"
   ]
  },
  {
   "cell_type": "code",
   "execution_count": 2,
   "id": "60511efb-14ca-4338-b506-9ba38d280164",
   "metadata": {},
   "outputs": [
    {
     "name": "stdin",
     "output_type": "stream",
     "text": [
      "Enter your institute name? :  HOPE AI\n"
     ]
    },
    {
     "data": {
      "text/plain": [
       "'HOPE AI'"
      ]
     },
     "execution_count": 2,
     "metadata": {},
     "output_type": "execute_result"
    }
   ],
   "source": [
    "input(\"Enter your institute name? : \")\n"
   ]
  },
  {
   "cell_type": "code",
   "execution_count": 4,
   "id": "16cae7ee-dca5-46fd-bffb-9892f67c3db3",
   "metadata": {},
   "outputs": [
    {
     "name": "stdin",
     "output_type": "stream",
     "text": [
      "Enter your name Raj\n",
      "Enter your age: 15\n",
      "Enter your school name: Guru School\n",
      "Enter your degree: B.E Csc\n"
     ]
    },
    {
     "data": {
      "text/plain": [
       "'B.E Csc'"
      ]
     },
     "execution_count": 4,
     "metadata": {},
     "output_type": "execute_result"
    }
   ],
   "source": [
    "input(\"Enter your name\")\n",
    "input(\"Enter your age:\")\n",
    "input(\"Enter your school name:\")\n",
    "input(\"Enter your degree:\")"
   ]
  },
  {
   "cell_type": "code",
   "execution_count": 9,
   "id": "6e87c2c6-10c3-4d00-a1ff-0a465af92163",
   "metadata": {},
   "outputs": [
    {
     "name": "stdout",
     "output_type": "stream",
     "text": [
      "a=43\n",
      "b=34\n",
      "add= 77\n"
     ]
    }
   ],
   "source": [
    "a= 43\n",
    "print(\"a=43\")\n",
    "b= 34\n",
    "print(\"b=34\")\n",
    "add=a+b\n",
    "print(\"add=\",add)"
   ]
  },
  {
   "cell_type": "code",
   "execution_count": 11,
   "id": "6c53000a-81ba-4a09-9a1d-56b72a42ed10",
   "metadata": {},
   "outputs": [
    {
     "name": "stdout",
     "output_type": "stream",
     "text": [
      "a=43\n",
      "b=34\n",
      "sub= 9\n"
     ]
    }
   ],
   "source": [
    "a=43\n",
    "print(\"a=43\")\n",
    "b=34\n",
    "print(\"b=34\")\n",
    "sub=a-b\n",
    "print(\"sub=\",sub)\n"
   ]
  },
  {
   "cell_type": "code",
   "execution_count": 12,
   "id": "3b67c54e-292a-4dfe-82f7-0a86f0590c8d",
   "metadata": {},
   "outputs": [
    {
     "name": "stdout",
     "output_type": "stream",
     "text": [
      "a=63\n",
      "b=97\n",
      "MUl= 6111\n"
     ]
    }
   ],
   "source": [
    "a=63\n",
    "print(\"a=63\")\n",
    "b=97\n",
    "print(\"b=97\")\n",
    "Mul=a*b\n",
    "print(\"MUl=\",a*b)\n",
    "\n"
   ]
  },
  {
   "cell_type": "code",
   "execution_count": 34,
   "id": "b51d96e3-0c26-4a22-aff5-dbc65bd35814",
   "metadata": {},
   "outputs": [
    {
     "name": "stdout",
     "output_type": "stream",
     "text": [
      "a=76\n",
      "b=31\n",
      "FloatDiv= 2.4516129032258065\n"
     ]
    }
   ],
   "source": [
    "a= 76\n",
    "print(\"a=76\")\n",
    "b= 31\n",
    "print(\"b=31\")\n",
    "FloatDiv=a/b\n",
    "print(\"FloatDiv=\",FloatDiv)\n"
   ]
  },
  {
   "cell_type": "code",
   "execution_count": 35,
   "id": "638eb3e6-c3b2-41b5-a962-fc028c918b4b",
   "metadata": {},
   "outputs": [
    {
     "name": "stdout",
     "output_type": "stream",
     "text": [
      "a=76\n",
      "b=31\n",
      "FloorDiv= 2\n"
     ]
    }
   ],
   "source": [
    "a= 76\n",
    "print(\"a=76\")\n",
    "b= 31\n",
    "print(\"b=31\")\n",
    "FloorDiv=a//b\n",
    "print(\"FloorDiv=\",FloorDiv)"
   ]
  },
  {
   "cell_type": "code",
   "execution_count": 36,
   "id": "a92e535f-d02f-4ab1-baf7-d8163ee103d9",
   "metadata": {},
   "outputs": [
    {
     "name": "stdout",
     "output_type": "stream",
     "text": [
      "a=76\n",
      "b=31\n",
      "Modulo= 14\n"
     ]
    }
   ],
   "source": [
    "a= 76\n",
    "print(\"a=76\")\n",
    "b= 31\n",
    "print(\"b=31\")\n",
    "Modulo=a%b\n",
    "print(\"Modulo=\",Modulo)\n"
   ]
  },
  {
   "cell_type": "code",
   "execution_count": 37,
   "id": "5ccb1d45-775a-4556-946a-5acd8c1abe25",
   "metadata": {},
   "outputs": [
    {
     "name": "stdout",
     "output_type": "stream",
     "text": [
      "a=4\n",
      "b=4\n",
      "Power= 256\n"
     ]
    }
   ],
   "source": [
    "a= 4\n",
    "print(\"a=4\")\n",
    "b= 4\n",
    "print(\"b=4\")\n",
    "Power=a**b\n",
    "print(\"Power=\",Power)"
   ]
  }
 ],
 "metadata": {
  "kernelspec": {
   "display_name": "Python 3 (ipykernel)",
   "language": "python",
   "name": "python3"
  },
  "language_info": {
   "codemirror_mode": {
    "name": "ipython",
    "version": 3
   },
   "file_extension": ".py",
   "mimetype": "text/x-python",
   "name": "python",
   "nbconvert_exporter": "python",
   "pygments_lexer": "ipython3",
   "version": "3.12.4"
  }
 },
 "nbformat": 4,
 "nbformat_minor": 5
}

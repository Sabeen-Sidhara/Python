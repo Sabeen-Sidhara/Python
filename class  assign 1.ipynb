{
 "cells": [
  {
   "cell_type": "code",
   "execution_count": 1,
   "id": "9cb9e804-840e-48dc-b104-caf76928cb23",
   "metadata": {},
   "outputs": [],
   "source": [
    "class SubfieldsInAI():\n",
    "    def Subfields():\n",
    "        lists=[\"Sub-fields in AI are:\" ,\"Machine Learning\" ,\"Neural Networks\" ,\"Vision\" ,\"Robotics\" ,\"Speech Processing\" ,\"Natural Language Processing\"]\n",
    "        for items in lists:\n",
    "            print(items)\n"
   ]
  },
  {
   "cell_type": "code",
   "execution_count": 2,
   "id": "f4b5eb51-342d-459a-b1b5-2945e496f7cd",
   "metadata": {},
   "outputs": [
    {
     "name": "stdout",
     "output_type": "stream",
     "text": [
      "Sub-fields in AI are:\n",
      "Machine Learning\n",
      "Neural Networks\n",
      "Vision\n",
      "Robotics\n",
      "Speech Processing\n",
      "Natural Language Processing\n"
     ]
    }
   ],
   "source": [
    "SubfieldsInAI.Subfields() "
   ]
  },
  {
   "cell_type": "code",
   "execution_count": 3,
   "id": "84f02102-eed8-4511-b816-dfbf1019a429",
   "metadata": {},
   "outputs": [],
   "source": [
    "class OddEven():\n",
    "    def OddEven():\n",
    "        num=int(input(\"Enter a number:\"))\n",
    "        if((num%2)==0):\n",
    "            print(num,\"is Even Number\")\n",
    "        else:\n",
    "            print(num,\"is Odd Number\")"
   ]
  },
  {
   "cell_type": "code",
   "execution_count": 4,
   "id": "1ae9fb98-5462-4c86-8ebe-8c6fb58cf08e",
   "metadata": {},
   "outputs": [
    {
     "name": "stdin",
     "output_type": "stream",
     "text": [
      "Enter a number: 52452\n"
     ]
    },
    {
     "name": "stdout",
     "output_type": "stream",
     "text": [
      "52452 is Even Number\n"
     ]
    }
   ],
   "source": [
    "OddEven.OddEven() "
   ]
  },
  {
   "cell_type": "code",
   "execution_count": 5,
   "id": "d15d8d85-3e61-4324-9574-09bced5ca7e5",
   "metadata": {},
   "outputs": [],
   "source": [
    "class EligibilityForMarriage():\n",
    "    def Eligible():\n",
    "        gend=(input(\"Your Gender:\"))\n",
    "        age=int(input(\"Your Age:\")) \n",
    "        if(gend==\"Male\" and age>=21):\n",
    "            print(\"ELIGIBLE\")\n",
    "        elif(gend==\"Female\" and age>=18):\n",
    "            print(\"ELIGIBLE\") \n",
    "        else:\n",
    "            print(\"NOT ELIGIBLE\")"
   ]
  },
  {
   "cell_type": "code",
   "execution_count": 6,
   "id": "21a9d4ea-61a2-4506-ad6a-45bd5b63f1a2",
   "metadata": {},
   "outputs": [
    {
     "name": "stdin",
     "output_type": "stream",
     "text": [
      "Your Gender: Male\n",
      "Your Age: 20\n"
     ]
    },
    {
     "name": "stdout",
     "output_type": "stream",
     "text": [
      "NOT ELIGIBLE\n"
     ]
    }
   ],
   "source": [
    "EligibilityForMarriage.Eligible()"
   ]
  },
  {
   "cell_type": "code",
   "execution_count": 7,
   "id": "6a70120c-91f3-46a6-9974-d3b8b9e7c6b7",
   "metadata": {},
   "outputs": [],
   "source": [
    "class FindPercent():\n",
    "    def percentage():\n",
    "        num1=int(input(\"Subject1=\"))\n",
    "        num2=int(input(\"Subject2=\"))\n",
    "        num3=int(input(\"Subject3=\"))\n",
    "        num4=int(input(\"Subject4=\"))\n",
    "        num5=int(input(\"Subject5=\"))\n",
    "        Total=num1+num2+num3+num4+num5\n",
    "        print(\"Total:\",Total)\n",
    "        percen=(Total/5)\n",
    "        print(\"Percentage :\",percen)"
   ]
  },
  {
   "cell_type": "code",
   "execution_count": 8,
   "id": "68286679-e3ea-46b2-9a17-dc86e4c20ddb",
   "metadata": {},
   "outputs": [
    {
     "name": "stdin",
     "output_type": "stream",
     "text": [
      "Subject1= 98\n",
      "Subject2= 87\n",
      "Subject3= 95\n",
      "Subject4= 95\n",
      "Subject5= 93\n"
     ]
    },
    {
     "name": "stdout",
     "output_type": "stream",
     "text": [
      "Total: 468\n",
      "Percentage : 93.6\n"
     ]
    }
   ],
   "source": [
    "FindPercent.percentage()"
   ]
  },
  {
   "cell_type": "code",
   "execution_count": 10,
   "id": "05e95ebd-04f1-48b0-a10e-492160f5b637",
   "metadata": {},
   "outputs": [],
   "source": [
    "class triangle():\n",
    "    def triangle():\n",
    "        Height=int(input(\"Height:\")) \n",
    "        Breadth=int(input(\"Breadth:\")) \n",
    "        Area=(Height*Breadth)/2 \n",
    "        print(\"Area formula:(Height*Breadth)/2\")\n",
    "        print(\"Area of Triangle:\",Area)\n",
    "        Height1=int(input(\"Height1:\")) \n",
    "        Height2=int(input(\"Height2:\")) \n",
    "        breadth=int(input(\"Breadth:\"))\n",
    "        Perimeter=Height1+Height2+breadth \n",
    "        print(\"Perimeter formula: Height1+Height2+Breadth\")\n",
    "        print(\"Perimeter of Triangle:\",Perimeter)"
   ]
  },
  {
   "cell_type": "code",
   "execution_count": 11,
   "id": "9323c4a5-0967-43f2-b5e9-64e489c277d8",
   "metadata": {},
   "outputs": [
    {
     "name": "stdin",
     "output_type": "stream",
     "text": [
      "Height: 32\n",
      "Breadth: 34\n"
     ]
    },
    {
     "name": "stdout",
     "output_type": "stream",
     "text": [
      "Area formula:(Height*Breadth)/2\n",
      "Area of Triangle: 544.0\n"
     ]
    },
    {
     "name": "stdin",
     "output_type": "stream",
     "text": [
      "Height1: 2\n",
      "Height2: 4\n",
      "Breadth: 4\n"
     ]
    },
    {
     "name": "stdout",
     "output_type": "stream",
     "text": [
      "Perimeter formula: Height1+Height2+Breadth\n",
      "Perimeter of Triangle: 10\n"
     ]
    }
   ],
   "source": [
    "triangle.triangle() "
   ]
  }
 ],
 "metadata": {
  "kernelspec": {
   "display_name": "Python 3 (ipykernel)",
   "language": "python",
   "name": "python3"
  },
  "language_info": {
   "codemirror_mode": {
    "name": "ipython",
    "version": 3
   },
   "file_extension": ".py",
   "mimetype": "text/x-python",
   "name": "python",
   "nbconvert_exporter": "python",
   "pygments_lexer": "ipython3",
   "version": "3.12.4"
  }
 },
 "nbformat": 4,
 "nbformat_minor": 5
}

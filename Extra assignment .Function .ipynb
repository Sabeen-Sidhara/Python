{
 "cells": [
  {
   "cell_type": "code",
   "execution_count": 1,
   "id": "1cd5652a-28f3-4f97-96d4-07766457bc88",
   "metadata": {},
   "outputs": [],
   "source": [
    "def Subfields():\n",
    "    lists=[\"Sub-fields in AI are:\" ,\"Machine Learning\" ,\"Neural Networks\" ,\"Vision\" ,\"Robotics\" ,\"Speech Processing\" ,\"Natural Language Processing\"]\n",
    "    for items in lists:\n",
    "     print(items)"
   ]
  },
  {
   "cell_type": "code",
   "execution_count": 2,
   "id": "43029142-959e-4454-918d-e2bd697571d8",
   "metadata": {},
   "outputs": [
    {
     "name": "stdout",
     "output_type": "stream",
     "text": [
      "Sub-fields in AI are:\n",
      "Machine Learning\n",
      "Neural Networks\n",
      "Vision\n",
      "Robotics\n",
      "Speech Processing\n",
      "Natural Language Processing\n"
     ]
    }
   ],
   "source": [
    "Subfields()"
   ]
  },
  {
   "cell_type": "code",
   "execution_count": 3,
   "id": "a3fffff2-b689-4e13-b977-db66c4e4611c",
   "metadata": {},
   "outputs": [],
   "source": [
    "def OddEven():\n",
    "    num=int(input(\"Enter a number:\"))\n",
    "    if((num%2)==0):\n",
    "        print(num,\"is Even Number\")\n",
    "    else:\n",
    "        print(num,\"is Odd Number\")"
   ]
  },
  {
   "cell_type": "code",
   "execution_count": 4,
   "id": "c0d1a0bc-28f8-4710-8f8d-fb534a451134",
   "metadata": {},
   "outputs": [
    {
     "name": "stdin",
     "output_type": "stream",
     "text": [
      "Enter a number: 52452\n"
     ]
    },
    {
     "name": "stdout",
     "output_type": "stream",
     "text": [
      "52452 is Even Number\n"
     ]
    }
   ],
   "source": [
    "OddEven()"
   ]
  },
  {
   "cell_type": "code",
   "execution_count": 5,
   "id": "31006420-3726-4c47-9422-8caf9229739c",
   "metadata": {},
   "outputs": [],
   "source": [
    "def Eligible():\n",
    "    gend=(input(\"Your Gender:\"))\n",
    "    age=int(input(\"Your Age:\")) \n",
    "    if(gend==\"Male\" and age>=21):\n",
    "        print(\"ELIGIBLE\")\n",
    "    elif(gend==\"Female\" and age>=18):\n",
    "        print(\"ELIGIBLE\") \n",
    "    else:\n",
    "        print(\"NOT ELIGIBLE\")"
   ]
  },
  {
   "cell_type": "code",
   "execution_count": 6,
   "id": "e97c43cf-855d-4281-88ce-0333ee816d25",
   "metadata": {},
   "outputs": [
    {
     "name": "stdin",
     "output_type": "stream",
     "text": [
      "Your Gender: Male\n",
      "Your Age: 20\n"
     ]
    },
    {
     "name": "stdout",
     "output_type": "stream",
     "text": [
      "NOT ELIGIBLE\n"
     ]
    }
   ],
   "source": [
    "Eligible() "
   ]
  },
  {
   "cell_type": "code",
   "execution_count": 7,
   "id": "f570db71-f3af-47d7-9643-411fb0ae28e7",
   "metadata": {},
   "outputs": [],
   "source": [
    "def percentage():\n",
    "    num1=int(input(\"Subject1=\"))\n",
    "    num2=int(input(\"Subject2=\"))\n",
    "    num3=int(input(\"Subject3=\"))\n",
    "    num4=int(input(\"Subject4=\"))\n",
    "    num5=int(input(\"Subject5=\"))\n",
    "    Total=num1+num2+num3+num4+num5\n",
    "    print(\"Total :\",Total)\n",
    "    percen=(Total/5)\n",
    "    print(\"Percentage :\",percen)"
   ]
  },
  {
   "cell_type": "code",
   "execution_count": 8,
   "id": "48a1bb1b-4888-4011-963e-bdddfa5046ed",
   "metadata": {},
   "outputs": [
    {
     "name": "stdin",
     "output_type": "stream",
     "text": [
      "Subject1= 98\n",
      "Subject2= 87\n",
      "Subject3= 95\n",
      "Subject4= 95\n",
      "Subject5= 93\n"
     ]
    },
    {
     "name": "stdout",
     "output_type": "stream",
     "text": [
      "Total : 468\n",
      "Percentage : 93.6\n"
     ]
    }
   ],
   "source": [
    "percentage()"
   ]
  },
  {
   "cell_type": "code",
   "execution_count": 9,
   "id": "508e4a07-d322-43d5-900b-df9c20d68d00",
   "metadata": {},
   "outputs": [],
   "source": [
    "def triangle():\n",
    "    Height=int(input(\"Height:\")) \n",
    "    Breadth=int(input(\"Breadth:\")) \n",
    "    Area=(Height*Breadth)/2 \n",
    "    print(\"Area formula:(Height*Breadth)/2\")\n",
    "    print(\"Area of Triangle:\",Area)\n",
    "    Height1=int(input(\"Height1:\")) \n",
    "    Height2=int(input(\"Height2:\")) \n",
    "    breadth=int(input(\"Breadth:\"))\n",
    "    Perimeter=Height1+Height2+breadth \n",
    "    print(\"Perimeter formula: Height1+Height2+Breadth\")\n",
    "    print(\"Perimeter of Triangle:\",Perimeter)"
   ]
  },
  {
   "cell_type": "code",
   "execution_count": 10,
   "id": "be9be270-a095-4f33-bb51-cea2067dfcc6",
   "metadata": {},
   "outputs": [
    {
     "name": "stdin",
     "output_type": "stream",
     "text": [
      "Height: 32\n",
      "Breadth: 34\n"
     ]
    },
    {
     "name": "stdout",
     "output_type": "stream",
     "text": [
      "Area formula:(Height*Breadth)/2\n",
      "Area of Triangle: 544.0\n"
     ]
    },
    {
     "name": "stdin",
     "output_type": "stream",
     "text": [
      "Height1: 2\n",
      "Height2: 4\n",
      "Breadth: 4\n"
     ]
    },
    {
     "name": "stdout",
     "output_type": "stream",
     "text": [
      "Perimeter formula: Height1+Height2+Breadth\n",
      "Perimeter of Triangle: 10\n"
     ]
    }
   ],
   "source": [
    "triangle()"
   ]
  }
 ],
 "metadata": {
  "kernelspec": {
   "display_name": "Python 3 (ipykernel)",
   "language": "python",
   "name": "python3"
  },
  "language_info": {
   "codemirror_mode": {
    "name": "ipython",
    "version": 3
   },
   "file_extension": ".py",
   "mimetype": "text/x-python",
   "name": "python",
   "nbconvert_exporter": "python",
   "pygments_lexer": "ipython3",
   "version": "3.12.4"
  }
 },
 "nbformat": 4,
 "nbformat_minor": 5
}
